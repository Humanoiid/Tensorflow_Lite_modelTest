{
 "cells": [
  {
   "cell_type": "markdown",
   "metadata": {},
   "source": [
    "# model conversion\n",
    "[tf_lite] \n",
    "* link: https://www.tensorflow.org/lite/guide/get_started#2_convert_the_model_format\n",
    "\n",
    "[keras-> tf_lite] - working at tf>2.x\n",
    "* link: https://ebbnflow.tistory.com/172?category=745851\n",
    "\n",
    "[keras -> tf_lite official] => TF > 2.X working \n",
    "* link: https://www.tensorflow.org/lite/convert"
   ]
  },
  {
   "cell_type": "code",
   "execution_count": 1,
   "metadata": {
    "scrolled": true
   },
   "outputs": [],
   "source": [
    "import tensorflow as tf\n",
    "from tensorflow import keras\n",
    "import os\n",
    "from datetime import datetime"
   ]
  },
  {
   "cell_type": "code",
   "execution_count": 2,
   "metadata": {},
   "outputs": [
    {
     "name": "stdout",
     "output_type": "stream",
     "text": [
      "model path example \n",
      "\n",
      "C:/save/keras_64_fullSample/VGG19_MNIST64_b16_ep20.h5\n"
     ]
    }
   ],
   "source": [
    "save_path = 'C:/save/keras_64_fullSample/'\n",
    "# VGG19 VGG16 ResNet50 ResNet50V2 ResNet101 ResNet101V2 ResNet152 ResNet152V2 MobileNet MobileNetV2\n",
    "# model_name = 'VGG19'\n",
    "model_name = ['VGG19', 'VGG16', 'ResNet50','ResNet50V2', 'ResNet101', 'ResNet101V2', 'ResNet152', 'ResNet152V2', 'MobileNet', 'MobileNetV2','AlexNet']\n",
    "data_name = 'MNIST'\n",
    "image_size = 64\n",
    "channels = 1\n",
    "batch = 16\n",
    "epoch = 20\n",
    "\n",
    "# keras2tf_name = 'save/keras-tf/'\n",
    "# tf2tfl_name = 'save/tf-tfl/'\n",
    "tfl_name = 'tfl/'\n",
    "\n",
    "ext_keras = '.h5'\n",
    "ext_tfl = '.tflite'\n",
    "\n",
    "\n",
    "print(\"model path example \\n\")\n",
    "print(save_path + model_name[0] + '_' + data_name + str(image_size) + '_b'+str(batch) +'_ep'+str(epoch)+ ext_keras)"
   ]
  },
  {
   "cell_type": "code",
   "execution_count": 3,
   "metadata": {},
   "outputs": [],
   "source": [
    "# tensorflow => tensorflow lite"
   ]
  },
  {
   "cell_type": "code",
   "execution_count": 4,
   "metadata": {},
   "outputs": [],
   "source": [
    "\n",
    "\n",
    "# converter = tf.lite.TFLiteConverter.from_saved_model(saved_model_dir)\n",
    "# tflite_model = converter.convert()\n",
    "# # open(\"converted_model.tflite\", \"wb\").write(tflite_model)\n",
    "# # keras\n",
    "# open(\"converted_model.h5\", \"wb\").write(tflite_model)"
   ]
  },
  {
   "cell_type": "code",
   "execution_count": 5,
   "metadata": {},
   "outputs": [],
   "source": [
    "# Keras => tensorflow => tensorflow lite (tf > 2.x)"
   ]
  },
  {
   "cell_type": "code",
   "execution_count": 6,
   "metadata": {},
   "outputs": [],
   "source": [
    "# # K => T\n",
    "\n",
    "\n",
    "# # model = keras.models.load_model(' [ model path and name ] ',compile=False)\n",
    "# # model = keras.models.load_model('save/keras/mnist_resnet50_model.h5',compile=False)\n",
    "# model = keras.models.load_model( keras_name+model_name,compile=False)\n",
    "# # 'save/keras/mnist_resnet50_model.h5'\n",
    "\n",
    "# # export_path = 'save/keras-tf_temp'\n",
    "\n",
    "# model.save(keras2tf_name,save_format=\"tf\")"
   ]
  },
  {
   "cell_type": "code",
   "execution_count": 7,
   "metadata": {},
   "outputs": [],
   "source": [
    "# # T => TF_L\n",
    "\n",
    "# # saved_model_dir = 'save/keras-tf_temp'\n",
    "# converter = tf.lite.TFLiteConverter.from_saved_model(keras2tf_name)\n",
    "# converter.target_spec.supported_ops = [tf.lite.OpsSet.TFLITE_BUILTINS, tf.lite.OpsSet.SELECT_TF_OPS]\n",
    "# tflite_model=converter.convert()\n",
    "# open(tf2tfl_name + model_name,'wb').write(tflite_model)"
   ]
  },
  {
   "cell_type": "code",
   "execution_count": 8,
   "metadata": {},
   "outputs": [],
   "source": [
    "# official (tf> 2.x)"
   ]
  },
  {
   "cell_type": "code",
   "execution_count": 10,
   "metadata": {},
   "outputs": [],
   "source": [
    "# # load model\n",
    "# model = keras.models.load_model(keras_name+model_name+ext_keras)"
   ]
  },
  {
   "cell_type": "code",
   "execution_count": 11,
   "metadata": {},
   "outputs": [],
   "source": [
    "# # Convert the model.\n",
    "# converter = tf.lite.TFLiteConverter.from_keras_model(model)\n",
    "# tflite_model = converter.convert()\n",
    "\n",
    "# # Save the model.\n",
    "# with open(tfl_name + model_name + ext_tfl, 'wb') as f:\n",
    "#   f.write(tflite_model)"
   ]
  },
  {
   "cell_type": "code",
   "execution_count": 3,
   "metadata": {},
   "outputs": [
    {
     "name": "stdout",
     "output_type": "stream",
     "text": [
      "['ResNet152V2', 'MobileNet', 'MobileNetV2', 'AlexNet']\n"
     ]
    }
   ],
   "source": [
    "temp = model_name[7:]\n",
    "print(temp)"
   ]
  },
  {
   "cell_type": "code",
   "execution_count": 4,
   "metadata": {},
   "outputs": [],
   "source": [
    "### save Path\n",
    "if(os.path.isdir(save_path + '/tfl') != True):\n",
    "    os.mkdir(save_path + '/tfl')"
   ]
  },
  {
   "cell_type": "code",
   "execution_count": 5,
   "metadata": {},
   "outputs": [
    {
     "name": "stdout",
     "output_type": "stream",
     "text": [
      "ResNet152V2_MNIST64_b16_ep20 - start date and time : 2020-09-22 16:59:54.815601\n",
      "ResNet152V2_MNIST64_b16_ep20 - finish date and time : 2020-09-22 17:04:00.242735\n",
      "\n",
      "MobileNet_MNIST64_b16_ep20 - start date and time : 2020-09-22 17:04:00.242735\n",
      "MobileNet_MNIST64_b16_ep20 - finish date and time : 2020-09-22 17:04:30.025736\n",
      "\n",
      "MobileNetV2_MNIST64_b16_ep20 - start date and time : 2020-09-22 17:04:30.026741\n",
      "MobileNetV2_MNIST64_b16_ep20 - finish date and time : 2020-09-22 17:05:01.275735\n",
      "\n",
      "AlexNet_MNIST64_b16_ep20 - start date and time : 2020-09-22 17:05:01.275735\n",
      "AlexNet_MNIST64_b16_ep20 - finish date and time : 2020-09-22 17:06:26.591733\n",
      "\n"
     ]
    }
   ],
   "source": [
    "# Keras models to Tensorflow Lite model convert\n",
    "for model_name_elem in temp:\n",
    "# for model_name_elem in model_name:\n",
    "#     sys.stdout = sys_stdout_backup\n",
    "    \n",
    "    model_name_final = model_name_elem + '_' + data_name + str(image_size) + '_b'+str(batch) +'_ep'+str(epoch)\n",
    "    start_time = datetime.now()\n",
    "    print(model_name_final + \" - start date and time : \" + str(start_time))\n",
    "    \n",
    "    \n",
    "    \n",
    "    # load model\n",
    "    model = keras.models.load_model(save_path + model_name_final+ ext_keras)\n",
    "    # Convert the model.\n",
    "    converter = tf.lite.TFLiteConverter.from_keras_model(model)\n",
    "    tflite_model = converter.convert()\n",
    "\n",
    "    # Save the model.\n",
    "    with open(save_path + tfl_name + model_name_final + ext_tfl, 'wb') as f:\n",
    "      f.write(tflite_model)\n",
    "    \n",
    "    f.close()\n",
    "    \n",
    "# ###################################\n",
    "# ######## start report Log\n",
    "# #     # progress report\n",
    "# #     ## model summary save\n",
    "# #     reportLog = open(save_path + 'keras/' + model_name_final + '_reportLog.txt', 'w')\n",
    "# #     sys_stdout_backup = sys.stdout\n",
    "# #     sys.stdout = reportLog\n",
    "     \n",
    "#     try:\n",
    "#         kerasAPI_humanoiid.func_keras_Models(save_path, data_name, model_name_elem, image_size, channels, batch, epoch, sys_stdout_backup)\n",
    "#     except Exception as e:\n",
    "#         print(type(e),file=sys_stdout_backup)\n",
    "#         print('Error information: ', e ,file=sys_stdout_backup)\n",
    "        \n",
    "#     sys.stdout = sys_stdout_backup\n",
    "#     reportLog.close()\n",
    "# ########## Finish report Log\n",
    "# ###################################\n",
    "\n",
    "# #     cuda.select_device(0)\n",
    "# #     cuda.close()\n",
    "    \n",
    "#     tf.keras.backend.clear_session()\n",
    "    finish_time = datetime.now()\n",
    "    print(model_name_final + \" - finish date and time : \" + str(finish_time))\n",
    "    print('')"
   ]
  },
  {
   "cell_type": "code",
   "execution_count": null,
   "metadata": {},
   "outputs": [],
   "source": []
  }
 ],
 "metadata": {
  "kernelspec": {
   "display_name": "tf2_1_py3_7",
   "language": "python",
   "name": "tf2_1_py3_7"
  },
  "language_info": {
   "codemirror_mode": {
    "name": "ipython",
    "version": 3
   },
   "file_extension": ".py",
   "mimetype": "text/x-python",
   "name": "python",
   "nbconvert_exporter": "python",
   "pygments_lexer": "ipython3",
   "version": "3.7.9"
  },
  "widgets": {
   "application/vnd.jupyter.widget-state+json": {
    "state": {},
    "version_major": 2,
    "version_minor": 0
   }
  }
 },
 "nbformat": 4,
 "nbformat_minor": 4
}
